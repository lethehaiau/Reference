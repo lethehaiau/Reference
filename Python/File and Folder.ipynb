{
 "cells": [
  {
   "cell_type": "markdown",
   "metadata": {},
   "source": [
    "Auto create folder"
   ]
  },
  {
   "cell_type": "code",
   "execution_count": 1,
   "metadata": {
    "collapsed": true
   },
   "outputs": [],
   "source": [
    "import os\n",
    "import errno"
   ]
  },
  {
   "cell_type": "code",
   "execution_count": 72,
   "metadata": {},
   "outputs": [
    {
     "name": "stdout",
     "output_type": "stream",
     "text": [
      "Test/gallery/a.jpg\n",
      "True\n"
     ]
    }
   ],
   "source": [
    "source_dir = \"Test/gallery/\"\n",
    "file_name = \"a.jpg\"\n",
    "file_dir = source_dir + file_name\n",
    "print(file_dir)\n",
    "os.makedirs(os.path.dirname(file_dir), exist_ok=True)\n",
    "print(os.path.exists(file_dir))"
   ]
  },
  {
   "cell_type": "markdown",
   "metadata": {},
   "source": [
    "Download file from url with urllib"
   ]
  },
  {
   "cell_type": "code",
   "execution_count": 64,
   "metadata": {},
   "outputs": [],
   "source": [
    "import urllib.request"
   ]
  },
  {
   "cell_type": "code",
   "execution_count": 29,
   "metadata": {},
   "outputs": [],
   "source": [
    "urllib.request.urlretrieve(\"https://s-media-cache-ak0.pinimg.com/736x/ee/fd/4d/eefd4d45c0cd9dd7f3d86b4b49e7fc72--cute-minions-minion-stuff.jpg\", file_dir)"
   ]
  },
  {
   "cell_type": "code",
   "execution_count": 71,
   "metadata": {},
   "outputs": [
    {
     "name": "stdout",
     "output_type": "stream",
     "text": [
      "ok\n"
     ]
    }
   ],
   "source": [
    "try:\n",
    "  urllib.request.urlopen(\"https://s3-ap-northeast-1.amazonaws.com/elifile/public/images/question/Vocab/yesterday.png\")\n",
    "  print('ok')\n",
    "except:\n",
    "        print('failed')"
   ]
  },
  {
   "cell_type": "markdown",
   "metadata": {},
   "source": [
    "Json single array\n",
    "ex:\n",
    "[\n",
    "{\"picture\":\"hat.png\"},\n",
    "{\"picture\":\"tie.png\"},\n",
    "{\"picture\":\"scarf.png\"},\n",
    "{\"picture\":\"watch.png\"},\n",
    "{\"picture\":\"glasses.png\"}]"
   ]
  },
  {
   "cell_type": "code",
   "execution_count": 18,
   "metadata": {
    "collapsed": true
   },
   "outputs": [],
   "source": [
    "import json"
   ]
  },
  {
   "cell_type": "code",
   "execution_count": 27,
   "metadata": {},
   "outputs": [
    {
     "name": "stdout",
     "output_type": "stream",
     "text": [
      "hat.png\n"
     ]
    }
   ],
   "source": [
    "json_file = open('../Data/elearning_questions-2.json')\n",
    "json_str = json_file.read()\n",
    "json_data = json.loads(json_str)\n",
    "print(json_data[0]['picture'])"
   ]
  },
  {
   "cell_type": "markdown",
   "metadata": {},
   "source": [
    "Thumbnail an image / diplay image"
   ]
  },
  {
   "cell_type": "code",
   "execution_count": 41,
   "metadata": {
    "collapsed": true
   },
   "outputs": [],
   "source": [
    "from PIL import Image\n",
    "from IPython.display import Image as display"
   ]
  },
  {
   "cell_type": "code",
   "execution_count": 70,
   "metadata": {},
   "outputs": [
    {
     "name": "stdout",
     "output_type": "stream",
     "text": [
      "(120, 120)\n"
     ]
    }
   ],
   "source": [
    "image = Image.open(file_dir)\n",
    "print(image.size)\n",
    "#display(file_dir)"
   ]
  },
  {
   "cell_type": "code",
   "execution_count": 54,
   "metadata": {},
   "outputs": [
    {
     "name": "stdout",
     "output_type": "stream",
     "text": [
      "(120, 120)\n"
     ]
    }
   ],
   "source": [
    "image.thumbnail((120, image.size[1]))\n",
    "print(image.size)\n",
    "image.save(source_dir+'a.jpg')"
   ]
  }
 ],
 "metadata": {
  "kernelspec": {
   "display_name": "Python 3",
   "language": "python",
   "name": "python3"
  },
  "language_info": {
   "codemirror_mode": {
    "name": "ipython",
    "version": 3
   },
   "file_extension": ".py",
   "mimetype": "text/x-python",
   "name": "python",
   "nbconvert_exporter": "python",
   "pygments_lexer": "ipython3",
   "version": "3.4.3"
  }
 },
 "nbformat": 4,
 "nbformat_minor": 2
}
